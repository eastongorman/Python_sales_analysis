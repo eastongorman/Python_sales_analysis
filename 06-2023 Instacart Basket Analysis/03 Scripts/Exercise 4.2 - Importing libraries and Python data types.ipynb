{
 "cells": [
  {
   "cell_type": "markdown",
   "id": "b8db4479",
   "metadata": {},
   "source": [
    "# Exercise 4.2 - Importing libraries and Python data types"
   ]
  },
  {
   "cell_type": "markdown",
   "id": "dc9c2b3f",
   "metadata": {},
   "source": [
    "## This script contains:\n",
    "#### 01. Importing libraries\n",
    "#### 02. Data Types\n",
    "#### 03. Bonus Task"
   ]
  },
  {
   "cell_type": "markdown",
   "id": "f281c1f1",
   "metadata": {},
   "source": [
    "# 01. Importing Libraries"
   ]
  },
  {
   "cell_type": "code",
   "execution_count": 12,
   "id": "9363a04b",
   "metadata": {},
   "outputs": [],
   "source": [
    "# Import libraries\n",
    "import pandas as pd\n",
    "import numpy as np\n",
    "import os"
   ]
  },
  {
   "cell_type": "markdown",
   "id": "661191ca",
   "metadata": {},
   "source": [
    "# 02. Data Types"
   ]
  },
  {
   "cell_type": "code",
   "execution_count": 1,
   "id": "83fd4baa",
   "metadata": {},
   "outputs": [],
   "source": [
    "x = 2"
   ]
  },
  {
   "cell_type": "code",
   "execution_count": 2,
   "id": "d36bb0ce",
   "metadata": {},
   "outputs": [],
   "source": [
    "y = 50"
   ]
  },
  {
   "cell_type": "code",
   "execution_count": 3,
   "id": "d8cbcd6b",
   "metadata": {},
   "outputs": [],
   "source": [
    "z = 25"
   ]
  },
  {
   "cell_type": "code",
   "execution_count": 4,
   "id": "c68b9c84",
   "metadata": {},
   "outputs": [
    {
     "data": {
      "text/plain": [
       "100"
      ]
     },
     "execution_count": 4,
     "metadata": {},
     "output_type": "execute_result"
    }
   ],
   "source": [
    "x * y"
   ]
  },
  {
   "cell_type": "code",
   "execution_count": 5,
   "id": "98fbbb90",
   "metadata": {},
   "outputs": [
    {
     "data": {
      "text/plain": [
       "100"
      ]
     },
     "execution_count": 5,
     "metadata": {},
     "output_type": "execute_result"
    }
   ],
   "source": [
    "y + y"
   ]
  },
  {
   "cell_type": "code",
   "execution_count": 6,
   "id": "815a3027",
   "metadata": {},
   "outputs": [
    {
     "data": {
      "text/plain": [
       "100"
      ]
     },
     "execution_count": 6,
     "metadata": {},
     "output_type": "execute_result"
    }
   ],
   "source": [
    "z * x + y"
   ]
  },
  {
   "cell_type": "code",
   "execution_count": 7,
   "id": "10818904",
   "metadata": {},
   "outputs": [],
   "source": [
    "a = 5.6"
   ]
  },
  {
   "cell_type": "code",
   "execution_count": 8,
   "id": "233f5036",
   "metadata": {},
   "outputs": [],
   "source": [
    "b = 3.4"
   ]
  },
  {
   "cell_type": "code",
   "execution_count": 9,
   "id": "ad1bdd37",
   "metadata": {},
   "outputs": [
    {
     "data": {
      "text/plain": [
       "1.6470588235294117"
      ]
     },
     "execution_count": 9,
     "metadata": {},
     "output_type": "execute_result"
    }
   ],
   "source": [
    "a / b"
   ]
  },
  {
   "cell_type": "code",
   "execution_count": 14,
   "id": "057fa959",
   "metadata": {},
   "outputs": [],
   "source": [
    "c = 'app'"
   ]
  },
  {
   "cell_type": "code",
   "execution_count": 15,
   "id": "87485e79",
   "metadata": {},
   "outputs": [],
   "source": [
    "d = 'le'"
   ]
  },
  {
   "cell_type": "code",
   "execution_count": 16,
   "id": "a536f1f4",
   "metadata": {},
   "outputs": [
    {
     "data": {
      "text/plain": [
       "'apple'"
      ]
     },
     "execution_count": 16,
     "metadata": {},
     "output_type": "execute_result"
    }
   ],
   "source": [
    "c + d"
   ]
  },
  {
   "cell_type": "code",
   "execution_count": 17,
   "id": "0f78c482",
   "metadata": {},
   "outputs": [],
   "source": [
    "e = 'Hello, '"
   ]
  },
  {
   "cell_type": "code",
   "execution_count": 18,
   "id": "60394a75",
   "metadata": {},
   "outputs": [],
   "source": [
    "f = 'World!'"
   ]
  },
  {
   "cell_type": "code",
   "execution_count": 2,
   "id": "55de75c8",
   "metadata": {},
   "outputs": [],
   "source": [
    "g = 'My name is '"
   ]
  },
  {
   "cell_type": "code",
   "execution_count": 6,
   "id": "08dff6ca",
   "metadata": {},
   "outputs": [],
   "source": [
    "h = 'Easton Gorman. '"
   ]
  },
  {
   "cell_type": "code",
   "execution_count": 21,
   "id": "3ba7ea06",
   "metadata": {},
   "outputs": [
    {
     "data": {
      "text/plain": [
       "'Hello, World!'"
      ]
     },
     "execution_count": 21,
     "metadata": {},
     "output_type": "execute_result"
    }
   ],
   "source": [
    "e + f"
   ]
  },
  {
   "cell_type": "code",
   "execution_count": 7,
   "id": "ed73c3b0",
   "metadata": {},
   "outputs": [
    {
     "data": {
      "text/plain": [
       "'My name is Easton Gorman. '"
      ]
     },
     "execution_count": 7,
     "metadata": {},
     "output_type": "execute_result"
    }
   ],
   "source": [
    "g + h"
   ]
  },
  {
   "cell_type": "markdown",
   "id": "8657d011",
   "metadata": {},
   "source": [
    "# 03. Bonus Task"
   ]
  },
  {
   "cell_type": "code",
   "execution_count": 9,
   "id": "9a861e8c",
   "metadata": {},
   "outputs": [
    {
     "data": {
      "text/plain": [
       "'My name is Easton Gorman. My name is Easton Gorman. My name is Easton Gorman. My name is Easton Gorman. My name is Easton Gorman. My name is Easton Gorman. My name is Easton Gorman. My name is Easton Gorman. My name is Easton Gorman. My name is Easton Gorman. My name is Easton Gorman. My name is Easton Gorman. My name is Easton Gorman. My name is Easton Gorman. My name is Easton Gorman. My name is Easton Gorman. My name is Easton Gorman. My name is Easton Gorman. My name is Easton Gorman. My name is Easton Gorman. My name is Easton Gorman. My name is Easton Gorman. My name is Easton Gorman. My name is Easton Gorman. My name is Easton Gorman. My name is Easton Gorman. My name is Easton Gorman. My name is Easton Gorman. My name is Easton Gorman. My name is Easton Gorman. My name is Easton Gorman. My name is Easton Gorman. My name is Easton Gorman. My name is Easton Gorman. My name is Easton Gorman. My name is Easton Gorman. My name is Easton Gorman. My name is Easton Gorman. My name is Easton Gorman. My name is Easton Gorman. My name is Easton Gorman. My name is Easton Gorman. My name is Easton Gorman. My name is Easton Gorman. My name is Easton Gorman. My name is Easton Gorman. My name is Easton Gorman. My name is Easton Gorman. My name is Easton Gorman. My name is Easton Gorman. My name is Easton Gorman. My name is Easton Gorman. My name is Easton Gorman. My name is Easton Gorman. My name is Easton Gorman. My name is Easton Gorman. My name is Easton Gorman. My name is Easton Gorman. My name is Easton Gorman. My name is Easton Gorman. My name is Easton Gorman. My name is Easton Gorman. My name is Easton Gorman. My name is Easton Gorman. My name is Easton Gorman. My name is Easton Gorman. My name is Easton Gorman. My name is Easton Gorman. My name is Easton Gorman. My name is Easton Gorman. My name is Easton Gorman. My name is Easton Gorman. My name is Easton Gorman. My name is Easton Gorman. My name is Easton Gorman. My name is Easton Gorman. My name is Easton Gorman. My name is Easton Gorman. My name is Easton Gorman. My name is Easton Gorman. My name is Easton Gorman. My name is Easton Gorman. My name is Easton Gorman. My name is Easton Gorman. My name is Easton Gorman. My name is Easton Gorman. My name is Easton Gorman. My name is Easton Gorman. My name is Easton Gorman. My name is Easton Gorman. My name is Easton Gorman. My name is Easton Gorman. My name is Easton Gorman. My name is Easton Gorman. My name is Easton Gorman. My name is Easton Gorman. My name is Easton Gorman. My name is Easton Gorman. My name is Easton Gorman. My name is Easton Gorman. '"
      ]
     },
     "execution_count": 9,
     "metadata": {},
     "output_type": "execute_result"
    }
   ],
   "source": [
    "(g + h) * 100"
   ]
  }
 ],
 "metadata": {
  "kernelspec": {
   "display_name": "Python 3 (ipykernel)",
   "language": "python",
   "name": "python3"
  },
  "language_info": {
   "codemirror_mode": {
    "name": "ipython",
    "version": 3
   },
   "file_extension": ".py",
   "mimetype": "text/x-python",
   "name": "python",
   "nbconvert_exporter": "python",
   "pygments_lexer": "ipython3",
   "version": "3.10.9"
  }
 },
 "nbformat": 4,
 "nbformat_minor": 5
}
